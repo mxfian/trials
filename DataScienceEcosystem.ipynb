{
 "cells": [
  {
   "cell_type": "markdown",
   "id": "39646097-27fc-4711-8482-fe12070e3bbc",
   "metadata": {},
   "source": [
    "# Data Science Tools and Ecosystem"
   ]
  },
  {
   "cell_type": "markdown",
   "id": "61952633-e4a5-4065-a672-e6bef1eb3055",
   "metadata": {},
   "source": [
    "In this notebook, we are going to look at a few tools and ecosystems that are used in the data science industry."
   ]
  },
  {
   "cell_type": "markdown",
   "id": "22585c61-92b8-42c1-89a1-2d6e2f403a4f",
   "metadata": {},
   "source": [
    "<b>Objectives: </b>\n",
    "<ul>\n",
    "    <li>Languages in Data Science</li>\n",
    "    <li>Libraries in Data Science</li>\n",
    "    <li>Development Environments in Data Science</li>\n",
    "    <li>Arithmetic Expressions in Python</li>\n",
    "</ul>"
   ]
  },
  {
   "cell_type": "markdown",
   "id": "7588747c-4dca-4125-a6c1-5ff2d0d2dffe",
   "metadata": {},
   "source": [
    "Some of the popular languages used in data science are - \n",
    "<ol>\n",
    "    <li>Python</li>\n",
    "    <li>R</li>\n",
    "    <li>Julia</li>\n",
    "    <li>Scala</li>\n",
    "</ol>"
   ]
  },
  {
   "cell_type": "markdown",
   "id": "15cd6503-4ed9-4859-8235-defcd55db5ba",
   "metadata": {},
   "source": [
    "Libraries commonly used by data scientists include - \n",
    "<ol>\n",
    "    <li>NumPy</li>\n",
    "    <li>Keras</li>\n",
    "    <li>TensorFlow</li>\n",
    "    <li>matplotlib</li>\n",
    "</ol>\n",
    "    "
   ]
  },
  {
   "cell_type": "markdown",
   "id": "2300fd29-4c8d-4613-8788-83192b382369",
   "metadata": {},
   "source": [
    "<table>\n",
    "    <th>Data Science Tools</th>\n",
    "    <tr><td>RStudio</td></tr>\n",
    "    <tr><td>Apache Spark</td></tr>\n",
    "    <tr><td>TensorFlow</td></tr>\n",
    "</table>\n",
    "        "
   ]
  },
  {
   "cell_type": "markdown",
   "id": "db1de821-9de3-42f1-a6c6-11dbd36bf31d",
   "metadata": {},
   "source": [
    "### Given below are a few examples of arithmetic expressions executed in Python\n"
   ]
  },
  {
   "cell_type": "code",
   "execution_count": 3,
   "id": "51d5c1e5-4bef-426b-ad2d-32569dbed740",
   "metadata": {
    "tags": []
   },
   "outputs": [
    {
     "data": {
      "text/plain": [
       "17"
      ]
     },
     "execution_count": 3,
     "metadata": {},
     "output_type": "execute_result"
    }
   ],
   "source": [
    "#Here is an instance of multiplication followed by addition\n",
    "(3*4) + 5"
   ]
  },
  {
   "cell_type": "code",
   "execution_count": 4,
   "id": "82960d33-e8f4-486e-a706-c3bc097bbeaa",
   "metadata": {
    "tags": []
   },
   "outputs": [
    {
     "data": {
      "text/plain": [
       "3.3333333333333335"
      ]
     },
     "execution_count": 4,
     "metadata": {},
     "output_type": "execute_result"
    }
   ],
   "source": [
    "#Here is a conversion of 200 minutes into hours\n",
    "200/60"
   ]
  },
  {
   "cell_type": "markdown",
   "id": "a673fd22-f4e9-4897-9a75-7d77d5a6b216",
   "metadata": {},
   "source": [
    "## Author\n",
    "Athul Ravi"
   ]
  }
 ],
 "metadata": {
  "kernelspec": {
   "display_name": "Python",
   "language": "python",
   "name": "conda-env-python-py"
  },
  "language_info": {
   "codemirror_mode": {
    "name": "ipython",
    "version": 3
   },
   "file_extension": ".py",
   "mimetype": "text/x-python",
   "name": "python",
   "nbconvert_exporter": "python",
   "pygments_lexer": "ipython3",
   "version": "3.7.12"
  }
 },
 "nbformat": 4,
 "nbformat_minor": 5
}
